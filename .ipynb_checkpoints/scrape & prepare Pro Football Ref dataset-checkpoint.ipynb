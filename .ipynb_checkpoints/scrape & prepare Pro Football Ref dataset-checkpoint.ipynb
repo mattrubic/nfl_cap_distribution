{
 "cells": [
  {
   "cell_type": "code",
   "execution_count": 1,
   "metadata": {},
   "outputs": [],
   "source": [
    "#imports\n",
    "from selenium import webdriver\n",
    "from selenium.webdriver.chrome.service import Service\n",
    "from webdriver_manager.chrome import ChromeDriverManager\n",
    "from bs4 import BeautifulSoup\n",
    "import pandas as pd"
   ]
  },
  {
   "cell_type": "code",
   "execution_count": 2,
   "metadata": {},
   "outputs": [],
   "source": [
    "#list of links to team rosters\n",
    "teams = ['https://www.pro-football-reference.com/teams/buf/2021_roster.htm', 'https://www.pro-football-reference.com/teams/nwe/2021_roster.htm', 'https://www.pro-football-reference.com/teams/mia/2021_roster.htm', 'https://www.pro-football-reference.com/teams/nyj/2021_roster.htm', 'https://www.pro-football-reference.com/teams/cin/2021_roster.htm', 'https://www.pro-football-reference.com/teams/pit/2021_roster.htm', 'https://www.pro-football-reference.com/teams/cle/2021_roster.htm', 'https://www.pro-football-reference.com/teams/rav/2021_roster.htm', 'https://www.pro-football-reference.com/teams/oti/2021_roster.htm', 'https://www.pro-football-reference.com/teams/clt/2021_roster.htm', 'https://www.pro-football-reference.com/teams/htx/2021_roster.htm', 'https://www.pro-football-reference.com/teams/jax/2021_roster.htm', 'https://www.pro-football-reference.com/teams/kan/2021_roster.htm', 'https://www.pro-football-reference.com/teams/rai/2021_roster.htm', 'https://www.pro-football-reference.com/teams/sdg/2021_roster.htm', 'https://www.pro-football-reference.com/teams/den/2021_roster.htm', 'https://www.pro-football-reference.com/teams/dal/2021_roster.htm', 'https://www.pro-football-reference.com/teams/phi/2021_roster.htm', 'https://www.pro-football-reference.com/teams/was/2021_roster.htm', 'https://www.pro-football-reference.com/teams/nyg/2021_roster.htm', 'https://www.pro-football-reference.com/teams/gnb/2021_roster.htm', 'https://www.pro-football-reference.com/teams/min/2021_roster.htm', 'https://www.pro-football-reference.com/teams/chi/2021_roster.htm', 'https://www.pro-football-reference.com/teams/det/2021_roster.htm', 'https://www.pro-football-reference.com/teams/tam/2021_roster.htm', 'https://www.pro-football-reference.com/teams/nor/2021_roster.htm', 'https://www.pro-football-reference.com/teams/atl/2021_roster.htm', 'https://www.pro-football-reference.com/teams/car/2021_roster.htm', 'https://www.pro-football-reference.com/teams/ram/2021_roster.htm', 'https://www.pro-football-reference.com/teams/sfo/2021_roster.htm', 'https://www.pro-football-reference.com/teams/sea/2021_roster.htm', 'https://www.pro-football-reference.com/teams/crd/2021_roster.htm', ]"
   ]
  },
  {
   "cell_type": "code",
   "execution_count": 3,
   "metadata": {},
   "outputs": [],
   "source": [
    "#blank df\n",
    "df = pd.DataFrame()"
   ]
  },
  {
   "cell_type": "code",
   "execution_count": 4,
   "metadata": {},
   "outputs": [
    {
     "name": "stdout",
     "output_type": "stream",
     "text": [
      "\n",
      "\n",
      "\n",
      "\n",
      "\n",
      "\n",
      "\n",
      "\n",
      "\n",
      "\n",
      "\n",
      "\n",
      "\n",
      "\n",
      "\n",
      "\n",
      "\n",
      "\n",
      "\n",
      "\n",
      "\n",
      "\n",
      "\n",
      "\n",
      "\n",
      "\n",
      "\n",
      "\n",
      "\n",
      "\n",
      "\n",
      "\n"
     ]
    }
   ],
   "source": [
    "#loop to populate df with all info from team rosters\n",
    "for team in teams:\n",
    "    #scrape roster data from team pages\n",
    "    driver = webdriver.Chrome(service=Service(ChromeDriverManager().install()))\n",
    "    driver.get(team) #using links from teams list\n",
    "    soup = BeautifulSoup(driver.page_source)\n",
    "    driver.quit()\n",
    "    table = soup.find_all('table')[0]  #This is the index of player roster table\n",
    "    tab_data = [[celldata.text for celldata in rowdata.find_all([\"th\",\"td\"])]\n",
    "                            for rowdata in table.find_all(\"tr\")]\n",
    "    \n",
    "        \n",
    "    team_df = pd.DataFrame(tab_data[1:-1], columns = tab_data[0]) #first row is column labels, last row is totals\n",
    "    #create new column for Year, to link with contract info later based on Player and Year\n",
    "    team_df.insert(loc=13, column='Year', value=2021)\n",
    "    #convert appropriate categories to numbers, with few exceptions errors are unwanted rows in data\n",
    "    team_df[['No.', 'Age', 'G', 'GS', 'Wt', 'AV']] = team_df[['No.', 'Age', 'G', 'GS', 'Wt', 'AV']].apply(pd.to_numeric, errors='coerce')\n",
    "    \n",
    "    df = df.append(team_df) #append resulting df of a team's data to df that will store all teams' data"
   ]
  },
  {
   "cell_type": "code",
   "execution_count": 5,
   "metadata": {},
   "outputs": [],
   "source": [
    "#reset index\n",
    "df = df.reset_index()\n",
    "df = df.drop(['index'], axis=1)\n",
    "\n",
    "#get rid of rows that do not represent any player\n",
    "df = df[df['Age'].notna()]\n",
    "\n",
    "#reset index\n",
    "df = df.reset_index()\n",
    "df = df.drop(['index'], axis=1)\n",
    "\n",
    "#fill empty values to prepare columns for conversions to ints\n",
    "df['No.'] = df['No.'].fillna(0) #some players don't have a number \n",
    "df['Wt'].iloc[1535] = 252 #one player was missing weight data\n",
    "\n",
    "#Convert floats to integers where logical\n",
    "df[['No.', 'Age', 'G', 'GS', 'Wt', 'AV']] = df[['No.', 'Age', 'G', 'GS', 'Wt', 'AV']].astype('int64')\n",
    "\n",
    "#empty string instead of zero for players who don't have a number\n",
    "df['No.'].replace([0], '', inplace=True)"
   ]
  },
  {
   "cell_type": "code",
   "execution_count": 46,
   "metadata": {},
   "outputs": [],
   "source": [
    "#export to csv\n",
    "df.to_csv(r'C:\\Users\\FIDataSci.DESKTOP-5QIEL80\\profootballref-dataframe-csv', sep='\\t', encoding='utf-8')"
   ]
  }
 ],
 "metadata": {
  "kernelspec": {
   "display_name": "Python (learn-env)",
   "language": "python",
   "name": "learn-env"
  },
  "language_info": {
   "codemirror_mode": {
    "name": "ipython",
    "version": 3
   },
   "file_extension": ".py",
   "mimetype": "text/x-python",
   "name": "python",
   "nbconvert_exporter": "python",
   "pygments_lexer": "ipython3",
   "version": "3.8.5"
  }
 },
 "nbformat": 4,
 "nbformat_minor": 5
}
