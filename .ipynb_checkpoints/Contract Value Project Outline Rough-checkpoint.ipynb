{
 "cells": [
  {
   "cell_type": "markdown",
   "metadata": {},
   "source": [
    "Goal here is to build a basic model, reiterate later upon study of other solutions, revisit with different valuation method"
   ]
  },
  {
   "cell_type": "markdown",
   "metadata": {},
   "source": [
    "**Rough draft to be edited for clarity**\n",
    "\n",
    "In NFL, what is the best way to distribute value across cap?\n",
    "\n",
    "Clustering (assumptions): minimum / rookie contract / free agent / franchise tag / outliers\n",
    "\n",
    "53+ roster spots.\n",
    "\n",
    "How many of each contract can be afforded, and what is the optimal distribution?\n",
    "\n",
    "Then account for positional value?\n"
   ]
  },
  {
   "cell_type": "markdown",
   "metadata": {},
   "source": [
    "cluster by salary, Measure AV/salary for all and determine optimal distribution of salaries by contract type by AV (as a basic measure of player value)"
   ]
  },
  {
   "cell_type": "markdown",
   "metadata": {},
   "source": [
    "**Import the data**\n",
    "\n",
    "need to use webscraping. \n",
    "\n",
    "Use pfr and spotrac as the sources. in future I think I would use these files to make a sql database\n",
    "\n",
    "Not sure which value to use for spotrac, average only appears available for active (2022-) contracts, historical values seem \n",
    "subject to be skewed by  things like contract restructures -- sorting by 'cash' seems to provide desired values, though this may be misleading for players whose salary is being paid by former team -- might make sense to go player by player and use yearly totals from 'career earnings', which appears to be cash values paid across all teams for a season\n",
    "\n",
    "spotrac and pfr seem to be consistent with which players were on which rosters historically, though spotrac adds has players across categories like injury IR, dead cap, practice squad etc. and classifies based on which category a player is in at the end of the season."
   ]
  },
  {
   "cell_type": "markdown",
   "metadata": {},
   "source": [
    "**Inspect dataset, prepare data appropriately**"
   ]
  },
  {
   "cell_type": "markdown",
   "metadata": {},
   "source": [
    "Want to have dataframe that at least has player position({'str':float64}), salary(real()), value(av()), and yearly salary cap (real()) formatted properly"
   ]
  },
  {
   "cell_type": "markdown",
   "metadata": {},
   "source": [
    "**Cluster salaries**"
   ]
  },
  {
   "cell_type": "markdown",
   "metadata": {},
   "source": [
    "I think this is mostly done using an ai?"
   ]
  },
  {
   "cell_type": "markdown",
   "metadata": {},
   "source": [
    "**Evaluate all players value compared to salary**\n",
    "\n",
    "value_per_dollar = av / salary"
   ]
  },
  {
   "cell_type": "markdown",
   "metadata": {},
   "source": [
    "**Visualize and evaluate**\n",
    "analyze by clusters(look up how to cluster, pretty sure this is done with basic ai) (use mean. assumpt: In NFL, team control to block player movement prevents teams from paying above market rate, and that teams would do so to extract value. However, they can't so much of how it is distributed is (assumed)random. so each team is as likely to acquire players anywhere within that cluster of contracts.\n",
    "\n",
    "Use salary earned rather than cap figure to account for fact that that number fluctuates to accomodate teams to their cap needs, but doesn't reflect cost as effectively as salary)\n",
    "\n",
    "perc_cap = salary / salary_cap \n",
    "\n",
    "order clusters by value, how many of each can exist on a team, best distribution given need for at least 53(how many could become better understood)"
   ]
  },
  {
   "cell_type": "markdown",
   "metadata": {},
   "source": [
    "**Ideas to explore**\n",
    "\n",
    "better ways to evaluate value than av\n",
    "\n",
    "how many players are needed on a roster, does that affect distribution?\n",
    "\n",
    "evaluate by positional value (did it have underlying effect in previous inquiry?)\n",
    "\n",
    "find teams historically that fit similar construction based on first inquiry, and compare their relative performance (AV, W/L, super bowl, etc)/\n",
    "find all possible clusters, look for their occurences in nfl teams and compare by their relative performance (AV, W/L, super bowl, etc)"
   ]
  },
  {
   "cell_type": "markdown",
   "metadata": {},
   "source": [
    "**Sources**\n",
    "\n",
    "pfr scraping - https://stmorse.github.io/journal/pfr-scrape-python.html\n",
    "\n",
    "spotrac scraping - https://github.com/the-data-analyst/python_portfolio_web_scraper-spotrac/blob/master/webScraping_sample.py"
   ]
  }
 ],
 "metadata": {
  "kernelspec": {
   "display_name": "Python (learn-env)",
   "language": "python",
   "name": "learn-env"
  },
  "language_info": {
   "codemirror_mode": {
    "name": "ipython",
    "version": 3
   },
   "file_extension": ".py",
   "mimetype": "text/x-python",
   "name": "python",
   "nbconvert_exporter": "python",
   "pygments_lexer": "ipython3",
   "version": "3.8.5"
  }
 },
 "nbformat": 4,
 "nbformat_minor": 4
}
