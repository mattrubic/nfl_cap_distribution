{
 "cells": [
  {
   "cell_type": "markdown",
   "id": "160442da",
   "metadata": {},
   "source": [
    "Goal here is to build a basic model, reiterate later upon study of other solutions, revisit with different valuation method"
   ]
  },
  {
   "cell_type": "markdown",
   "id": "bcdb261e",
   "metadata": {},
   "source": [
    "**Rough draft to be edited for clarity**\n",
    "\n",
    "In NFL, what is the best way to distribute value across cap?\n",
    "\n",
    "Clustering (assumptions): minimum / rookie contract / free agent / franchise tag / outliers\n",
    "\n",
    "53+ roster spots.\n",
    "\n",
    "How many of each contract can be afforded, and what is the optimal distribution?\n",
    "\n",
    "Then account for positional value?\n"
   ]
  },
  {
   "cell_type": "markdown",
   "id": "2f705e3c",
   "metadata": {},
   "source": [
    "cluster by salary, Measure AV/salary for all and determine optimal distribution of salaries by contract type by AV (as a basic measure of player value)"
   ]
  },
  {
   "cell_type": "markdown",
   "id": "34fe95f3",
   "metadata": {},
   "source": [
    "**Import the data**\n",
    "\n",
    "may need to use API's &/or webscraping. \n",
    "\n",
    "Use footballref and spotrac as the sources?"
   ]
  },
  {
   "cell_type": "code",
   "execution_count": null,
   "id": "6c0c2530",
   "metadata": {},
   "outputs": [],
   "source": []
  },
  {
   "cell_type": "markdown",
   "id": "e2850c06",
   "metadata": {},
   "source": [
    "**Inspect dataset, prepare data appropriately**"
   ]
  },
  {
   "cell_type": "markdown",
   "id": "5d21c823",
   "metadata": {},
   "source": [
    "Want to have dataframe that at least has player position({'str':float64}), salary(real()), value(av()), and yearly salary cap (real()) formatted properly"
   ]
  },
  {
   "cell_type": "markdown",
   "id": "cd791e59",
   "metadata": {},
   "source": [
    "**Cluster salaries**"
   ]
  },
  {
   "cell_type": "markdown",
   "id": "da3383df",
   "metadata": {},
   "source": [
    "I think this is mostly done using an ai?"
   ]
  },
  {
   "cell_type": "markdown",
   "id": "e2701eaf",
   "metadata": {},
   "source": [
    "**Evaluate all players value compared to salary**\n",
    "\n",
    "value_per_dollar = av / salary"
   ]
  },
  {
   "cell_type": "markdown",
   "id": "286e610a",
   "metadata": {},
   "source": [
    "**Visualize and evaluate**\n",
    "analyze by clusters(look up how to cluster, pretty sure this is done with basic ai) (use mean. assumpt: In NFL, team control to block player movement prevents teams from paying above market rate, and that teams would do so to extract value. However, they can't so much of how it is distributed is (assumed)random. so each team is as likely to acquire players anywhere within that cluster of contracts.\n",
    "\n",
    "Use salary earned rather than cap figure to account for fact that that number fluctuates to accomodate teams to their cap needs, but doesn't reflect cost as effectively as salary)\n",
    "\n",
    "perc_cap = salary / salary_cap \n",
    "\n",
    "order clusters by value, how many of each can exist on a team, best distribution given need for at least 53(how many could become better understood)"
   ]
  },
  {
   "cell_type": "code",
   "execution_count": null,
   "id": "a10c7bbd",
   "metadata": {},
   "outputs": [],
   "source": []
  },
  {
   "cell_type": "code",
   "execution_count": null,
   "id": "96e3542a",
   "metadata": {},
   "outputs": [],
   "source": []
  },
  {
   "cell_type": "code",
   "execution_count": null,
   "id": "7a430fd3",
   "metadata": {},
   "outputs": [],
   "source": []
  },
  {
   "cell_type": "code",
   "execution_count": null,
   "id": "8eaeab9a",
   "metadata": {},
   "outputs": [],
   "source": []
  },
  {
   "cell_type": "code",
   "execution_count": null,
   "id": "84d992c1",
   "metadata": {},
   "outputs": [],
   "source": []
  },
  {
   "cell_type": "code",
   "execution_count": null,
   "id": "0c9817e3",
   "metadata": {},
   "outputs": [],
   "source": []
  },
  {
   "cell_type": "code",
   "execution_count": null,
   "id": "ad0440f9",
   "metadata": {},
   "outputs": [],
   "source": []
  },
  {
   "cell_type": "markdown",
   "id": "59f8d940",
   "metadata": {},
   "source": [
    "**Ideas to explore**\n",
    "\n",
    "better ways to evaluate value than av\n",
    "\n",
    "how many players are needed on a roster, does that affect distribution?\n",
    "\n",
    "evaluate by positional value (did it have underlying effect in previous inquiry?)\n",
    "\n",
    "find teams historically that fit similar construction based on first inquiry, and compare their relative performance (AV, W/L, super bowl, etc)/\n",
    "find all possible clusters, look for their occurences in nfl teams and compare by their relative performance (AV, W/L, super bowl, etc)"
   ]
  },
  {
   "cell_type": "code",
   "execution_count": null,
   "id": "bbf34a28",
   "metadata": {},
   "outputs": [],
   "source": []
  }
 ],
 "metadata": {
  "kernelspec": {
   "display_name": "Python 3 (ipykernel)",
   "language": "python",
   "name": "python3"
  },
  "language_info": {
   "codemirror_mode": {
    "name": "ipython",
    "version": 3
   },
   "file_extension": ".py",
   "mimetype": "text/x-python",
   "name": "python",
   "nbconvert_exporter": "python",
   "pygments_lexer": "ipython3",
   "version": "3.9.12"
  }
 },
 "nbformat": 4,
 "nbformat_minor": 5
}
