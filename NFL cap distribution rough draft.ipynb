{
 "cells": [
  {
   "cell_type": "markdown",
   "metadata": {},
   "source": [
    "Goal here is to build a basic model, reiterate later upon study of other solutions, revisit with different valuation method"
   ]
  },
  {
   "cell_type": "markdown",
   "metadata": {},
   "source": [
    "**Rough draft to be edited for clarity**\n",
    "\n",
    "In NFL, what is the best way to distribute value across cap?\n",
    "\n",
    "Clustering (assumptions): minimum / rookie contract / free agent / franchise tag / outliers\n",
    "\n",
    "53+ roster spots.\n",
    "\n",
    "How many of each contract can be afforded, and what is the optimal distribution?\n",
    "\n",
    "Then account for positional value?\n"
   ]
  },
  {
   "cell_type": "markdown",
   "metadata": {},
   "source": [
    "cluster by salary, Measure AV/salary for all and determine optimal distribution of salaries by contract type by AV (as a basic measure of player value)"
   ]
  },
  {
   "cell_type": "markdown",
   "metadata": {},
   "source": [
    "**Import the data**\n",
    "\n",
    "need to use webscraping. \n",
    "\n",
    "Use pfr and spotrac as the sources. in future I think I would use these files to make a sql database\n",
    "\n",
    "Not sure which value to use for spotrac, average only appears available for active (2022-) contracts, historical values seem \n",
    "subject to be skewed by  things like contract restructures -- sorting by 'cash' seems to provide desired values, though this may be misleading for players whose salary is being paid by former team -- might make sense to go player by player and use yearly totals from 'career earnings', which appears to be cash values paid across all teams for a season\n",
    "\n",
    "spotrac and pfr seem to be consistent with which players were on which rosters historically, though spotrac adds has players across categories like injury IR, dead cap, practice squad etc. and classifies based on which category a player is in at the end of the season."
   ]
  },
  {
   "cell_type": "code",
   "execution_count": 1,
   "metadata": {},
   "outputs": [],
   "source": [
    "from selenium import webdriver\n",
    "from selenium.webdriver.chrome.service import Service\n",
    "from webdriver_manager.chrome import ChromeDriverManager\n",
    "from bs4 import BeautifulSoup\n",
    "import pandas as pd"
   ]
  },
  {
   "cell_type": "code",
   "execution_count": 2,
   "metadata": {},
   "outputs": [],
   "source": [
    "teams = ['https://www.pro-football-reference.com/teams/buf/2021_roster.htm', 'https://www.pro-football-reference.com/teams/nwe/2021_roster.htm', 'https://www.pro-football-reference.com/teams/mia/2021_roster.htm', 'https://www.pro-football-reference.com/teams/nyj/2021_roster.htm', 'https://www.pro-football-reference.com/teams/cin/2021_roster.htm', 'https://www.pro-football-reference.com/teams/pit/2021_roster.htm', 'https://www.pro-football-reference.com/teams/cle/2021_roster.htm', 'https://www.pro-football-reference.com/teams/rav/2021_roster.htm', 'https://www.pro-football-reference.com/teams/oti/2021_roster.htm', 'https://www.pro-football-reference.com/teams/clt/2021_roster.htm', 'https://www.pro-football-reference.com/teams/htx/2021_roster.htm', 'https://www.pro-football-reference.com/teams/jax/2021_roster.htm', 'https://www.pro-football-reference.com/teams/kan/2021_roster.htm', 'https://www.pro-football-reference.com/teams/rai/2021_roster.htm', 'https://www.pro-football-reference.com/teams/sdg/2021_roster.htm', 'https://www.pro-football-reference.com/teams/den/2021_roster.htm', 'https://www.pro-football-reference.com/teams/dal/2021_roster.htm', 'https://www.pro-football-reference.com/teams/phi/2021_roster.htm', 'https://www.pro-football-reference.com/teams/was/2021_roster.htm', 'https://www.pro-football-reference.com/teams/nyg/2021_roster.htm', 'https://www.pro-football-reference.com/teams/gnb/2021_roster.htm', 'https://www.pro-football-reference.com/teams/min/2021_roster.htm', 'https://www.pro-football-reference.com/teams/chi/2021_roster.htm', 'https://www.pro-football-reference.com/teams/det/2021_roster.htm', 'https://www.pro-football-reference.com/teams/tam/2021_roster.htm', 'https://www.pro-football-reference.com/teams/nor/2021_roster.htm', 'https://www.pro-football-reference.com/teams/atl/2021_roster.htm', 'https://www.pro-football-reference.com/teams/car/2021_roster.htm', 'https://www.pro-football-reference.com/teams/ram/2021_roster.htm', 'https://www.pro-football-reference.com/teams/sfo/2021_roster.htm', 'https://www.pro-football-reference.com/teams/sea/2021_roster.htm', 'https://www.pro-football-reference.com/teams/crd/2021_roster.htm', ]"
   ]
  },
  {
   "cell_type": "code",
   "execution_count": 3,
   "metadata": {},
   "outputs": [],
   "source": [
    "df = pd.DataFrame()"
   ]
  },
  {
   "cell_type": "code",
   "execution_count": 4,
   "metadata": {},
   "outputs": [
    {
     "name": "stdout",
     "output_type": "stream",
     "text": [
      "\n",
      "\n",
      "\n",
      "\n",
      "\n",
      "\n",
      "\n",
      "\n",
      "\n",
      "\n",
      "\n",
      "\n",
      "\n",
      "\n",
      "\n",
      "\n",
      "\n",
      "\n",
      "\n",
      "\n",
      "\n",
      "\n",
      "\n",
      "\n",
      "\n",
      "\n",
      "\n",
      "\n",
      "\n",
      "\n",
      "\n",
      "\n"
     ]
    }
   ],
   "source": [
    "for team in teams:\n",
    "    driver = webdriver.Chrome(service=Service(ChromeDriverManager().install()))\n",
    "    driver.get(team)\n",
    "    soup = BeautifulSoup(driver.page_source)\n",
    "    driver.quit()\n",
    "    table = soup.find_all('table')[0]  #This is the index of any table of that page. If you change it you can get different tables.\n",
    "    tab_data = [[celldata.text for celldata in rowdata.find_all([\"th\",\"td\"])]\n",
    "                            for rowdata in table.find_all(\"tr\")]\n",
    "    #for data in tab_data[1:-1]: #first and last rows are names of the columns and team totals respectively\n",
    "        #print(' '.join(data))\n",
    "        \n",
    "    team_df = pd.DataFrame(tab_data[1:-1], columns = tab_data[0])\n",
    "    #team_df = team_df.drop(30) #this row is a repeat of column names\n",
    "    team_df.insert(loc=13, column='Year', value=2021)\n",
    "    team_df[['No.', 'Age', 'G', 'GS', 'Wt', 'AV']] = team_df[['No.', 'Age', 'G', 'GS', 'Wt', 'AV']].apply(pd.to_numeric, errors='coerce')\n",
    "    \n",
    "    df = df.append(team_df)\n",
    "\n",
    "\n",
    "    #create dictionary of all team names as they appear on pfr and get all tables, keep each table separate"
   ]
  },
  {
   "cell_type": "code",
   "execution_count": 5,
   "metadata": {},
   "outputs": [],
   "source": [
    "df = df.reset_index()"
   ]
  },
  {
   "cell_type": "code",
   "execution_count": 6,
   "metadata": {},
   "outputs": [],
   "source": [
    "df = df.drop(['index'], axis=1)"
   ]
  },
  {
   "cell_type": "code",
   "execution_count": 11,
   "metadata": {},
   "outputs": [],
   "source": [
    "df = df[df['Age'].notna()]"
   ]
  },
  {
   "cell_type": "code",
   "execution_count": 13,
   "metadata": {},
   "outputs": [],
   "source": [
    "df = df.reset_index()"
   ]
  },
  {
   "cell_type": "code",
   "execution_count": 15,
   "metadata": {},
   "outputs": [],
   "source": [
    "df = df.drop(['index'], axis=1)"
   ]
  },
  {
   "cell_type": "code",
   "execution_count": 18,
   "metadata": {},
   "outputs": [],
   "source": [
    "df['No.'] = df['No.'].fillna(0)"
   ]
  },
  {
   "cell_type": "code",
   "execution_count": 28,
   "metadata": {},
   "outputs": [
    {
     "name": "stderr",
     "output_type": "stream",
     "text": [
      "C:\\Users\\FIDataSci.DESKTOP-5QIEL80\\anaconda3\\envs\\learn-env\\lib\\site-packages\\pandas\\core\\indexing.py:670: SettingWithCopyWarning: \n",
      "A value is trying to be set on a copy of a slice from a DataFrame\n",
      "\n",
      "See the caveats in the documentation: https://pandas.pydata.org/pandas-docs/stable/user_guide/indexing.html#returning-a-view-versus-a-copy\n",
      "  iloc._setitem_with_indexer(indexer, value)\n"
     ]
    }
   ],
   "source": [
    "df['Wt'].iloc[1535] = 252"
   ]
  },
  {
   "cell_type": "code",
   "execution_count": 30,
   "metadata": {},
   "outputs": [],
   "source": [
    "df[['No.', 'Age', 'G', 'GS', 'Wt', 'AV']] = df[['No.', 'Age', 'G', 'GS', 'Wt', 'AV']].astype('int64')"
   ]
  },
  {
   "cell_type": "code",
   "execution_count": 45,
   "metadata": {},
   "outputs": [],
   "source": [
    "df['No.'].replace([0], '', inplace=True)"
   ]
  },
  {
   "cell_type": "code",
   "execution_count": 46,
   "metadata": {},
   "outputs": [],
   "source": [
    "df.to_csv(r'C:\\Users\\FIDataSci.DESKTOP-5QIEL80\\profootballref-dataframe-csv', sep='\\t', encoding='utf-8')"
   ]
  },
  {
   "cell_type": "markdown",
   "metadata": {},
   "source": [
    "**Inspect dataset, prepare data appropriately**"
   ]
  },
  {
   "cell_type": "markdown",
   "metadata": {},
   "source": [
    "Want to have dataframe that at least has player position({'str':float64}), salary(real()), value(av()), and yearly salary cap (real()) formatted properly"
   ]
  },
  {
   "cell_type": "markdown",
   "metadata": {},
   "source": [
    "**Cluster salaries**"
   ]
  },
  {
   "cell_type": "markdown",
   "metadata": {},
   "source": [
    "I think this is mostly done using an ai?"
   ]
  },
  {
   "cell_type": "markdown",
   "metadata": {},
   "source": [
    "**Evaluate all players value compared to salary**\n",
    "\n",
    "value_per_dollar = av / salary"
   ]
  },
  {
   "cell_type": "markdown",
   "metadata": {},
   "source": [
    "**Visualize and evaluate**\n",
    "analyze by clusters(look up how to cluster, pretty sure this is done with basic ai) (use mean. assumpt: In NFL, team control to block player movement prevents teams from paying above market rate, and that teams would do so to extract value. However, they can't so much of how it is distributed is (assumed)random. so each team is as likely to acquire players anywhere within that cluster of contracts.\n",
    "\n",
    "Use salary earned rather than cap figure to account for fact that that number fluctuates to accomodate teams to their cap needs, but doesn't reflect cost as effectively as salary)\n",
    "\n",
    "perc_cap = salary / salary_cap \n",
    "\n",
    "order clusters by value, how many of each can exist on a team, best distribution given need for at least 53(how many could become better understood)"
   ]
  },
  {
   "cell_type": "code",
   "execution_count": null,
   "metadata": {},
   "outputs": [],
   "source": []
  },
  {
   "cell_type": "code",
   "execution_count": null,
   "metadata": {},
   "outputs": [],
   "source": []
  },
  {
   "cell_type": "code",
   "execution_count": null,
   "metadata": {},
   "outputs": [],
   "source": []
  },
  {
   "cell_type": "code",
   "execution_count": null,
   "metadata": {},
   "outputs": [],
   "source": []
  },
  {
   "cell_type": "code",
   "execution_count": null,
   "metadata": {},
   "outputs": [],
   "source": []
  },
  {
   "cell_type": "code",
   "execution_count": null,
   "metadata": {},
   "outputs": [],
   "source": []
  },
  {
   "cell_type": "code",
   "execution_count": null,
   "metadata": {},
   "outputs": [],
   "source": []
  },
  {
   "cell_type": "markdown",
   "metadata": {},
   "source": [
    "**Ideas to explore**\n",
    "\n",
    "better ways to evaluate value than av\n",
    "\n",
    "how many players are needed on a roster, does that affect distribution?\n",
    "\n",
    "evaluate by positional value (did it have underlying effect in previous inquiry?)\n",
    "\n",
    "find teams historically that fit similar construction based on first inquiry, and compare their relative performance (AV, W/L, super bowl, etc)/\n",
    "find all possible clusters, look for their occurences in nfl teams and compare by their relative performance (AV, W/L, super bowl, etc)"
   ]
  },
  {
   "cell_type": "markdown",
   "metadata": {},
   "source": [
    "**Sources**\n",
    "\n",
    "pfr scraping - https://stmorse.github.io/journal/pfr-scrape-python.html\n",
    "\n",
    "spotrac scraping - https://github.com/the-data-analyst/python_portfolio_web_scraper-spotrac/blob/master/webScraping_sample.py"
   ]
  }
 ],
 "metadata": {
  "kernelspec": {
   "display_name": "Python (learn-env)",
   "language": "python",
   "name": "learn-env"
  },
  "language_info": {
   "codemirror_mode": {
    "name": "ipython",
    "version": 3
   },
   "file_extension": ".py",
   "mimetype": "text/x-python",
   "name": "python",
   "nbconvert_exporter": "python",
   "pygments_lexer": "ipython3",
   "version": "3.8.5"
  }
 },
 "nbformat": 4,
 "nbformat_minor": 5
}
